{
  "nbformat": 4,
  "nbformat_minor": 0,
  "metadata": {
    "colab": {
      "provenance": [],
      "gpuType": "T4"
    },
    "kernelspec": {
      "name": "python3",
      "display_name": "Python 3"
    },
    "language_info": {
      "name": "python"
    },
    "accelerator": "GPU"
  },
  "cells": [
    {
      "cell_type": "code",
      "execution_count": null,
      "metadata": {
        "colab": {
          "base_uri": "https://localhost:8080/"
        },
        "id": "s1XAWb3gf9py",
        "outputId": "05332521-d5c2-4194-b4dc-0d430a99045f"
      },
      "outputs": [
        {
          "output_type": "stream",
          "name": "stdout",
          "text": [
            "Requirement already satisfied: tensorflow in /usr/local/lib/python3.10/dist-packages (2.15.0)\n",
            "Requirement already satisfied: absl-py>=1.0.0 in /usr/local/lib/python3.10/dist-packages (from tensorflow) (1.4.0)\n",
            "Requirement already satisfied: astunparse>=1.6.0 in /usr/local/lib/python3.10/dist-packages (from tensorflow) (1.6.3)\n",
            "Requirement already satisfied: flatbuffers>=23.5.26 in /usr/local/lib/python3.10/dist-packages (from tensorflow) (24.3.25)\n",
            "Requirement already satisfied: gast!=0.5.0,!=0.5.1,!=0.5.2,>=0.2.1 in /usr/local/lib/python3.10/dist-packages (from tensorflow) (0.5.4)\n",
            "Requirement already satisfied: google-pasta>=0.1.1 in /usr/local/lib/python3.10/dist-packages (from tensorflow) (0.2.0)\n",
            "Requirement already satisfied: h5py>=2.9.0 in /usr/local/lib/python3.10/dist-packages (from tensorflow) (3.9.0)\n",
            "Requirement already satisfied: libclang>=13.0.0 in /usr/local/lib/python3.10/dist-packages (from tensorflow) (18.1.1)\n",
            "Requirement already satisfied: ml-dtypes~=0.2.0 in /usr/local/lib/python3.10/dist-packages (from tensorflow) (0.2.0)\n",
            "Requirement already satisfied: numpy<2.0.0,>=1.23.5 in /usr/local/lib/python3.10/dist-packages (from tensorflow) (1.25.2)\n",
            "Requirement already satisfied: opt-einsum>=2.3.2 in /usr/local/lib/python3.10/dist-packages (from tensorflow) (3.3.0)\n",
            "Requirement already satisfied: packaging in /usr/local/lib/python3.10/dist-packages (from tensorflow) (24.1)\n",
            "Requirement already satisfied: protobuf!=4.21.0,!=4.21.1,!=4.21.2,!=4.21.3,!=4.21.4,!=4.21.5,<5.0.0dev,>=3.20.3 in /usr/local/lib/python3.10/dist-packages (from tensorflow) (3.20.3)\n",
            "Requirement already satisfied: setuptools in /usr/local/lib/python3.10/dist-packages (from tensorflow) (67.7.2)\n",
            "Requirement already satisfied: six>=1.12.0 in /usr/local/lib/python3.10/dist-packages (from tensorflow) (1.16.0)\n",
            "Requirement already satisfied: termcolor>=1.1.0 in /usr/local/lib/python3.10/dist-packages (from tensorflow) (2.4.0)\n",
            "Requirement already satisfied: typing-extensions>=3.6.6 in /usr/local/lib/python3.10/dist-packages (from tensorflow) (4.12.2)\n",
            "Requirement already satisfied: wrapt<1.15,>=1.11.0 in /usr/local/lib/python3.10/dist-packages (from tensorflow) (1.14.1)\n",
            "Requirement already satisfied: tensorflow-io-gcs-filesystem>=0.23.1 in /usr/local/lib/python3.10/dist-packages (from tensorflow) (0.37.0)\n",
            "Requirement already satisfied: grpcio<2.0,>=1.24.3 in /usr/local/lib/python3.10/dist-packages (from tensorflow) (1.64.1)\n",
            "Requirement already satisfied: tensorboard<2.16,>=2.15 in /usr/local/lib/python3.10/dist-packages (from tensorflow) (2.15.2)\n",
            "Requirement already satisfied: tensorflow-estimator<2.16,>=2.15.0 in /usr/local/lib/python3.10/dist-packages (from tensorflow) (2.15.0)\n",
            "Requirement already satisfied: keras<2.16,>=2.15.0 in /usr/local/lib/python3.10/dist-packages (from tensorflow) (2.15.0)\n",
            "Requirement already satisfied: wheel<1.0,>=0.23.0 in /usr/local/lib/python3.10/dist-packages (from astunparse>=1.6.0->tensorflow) (0.43.0)\n",
            "Requirement already satisfied: google-auth<3,>=1.6.3 in /usr/local/lib/python3.10/dist-packages (from tensorboard<2.16,>=2.15->tensorflow) (2.27.0)\n",
            "Requirement already satisfied: google-auth-oauthlib<2,>=0.5 in /usr/local/lib/python3.10/dist-packages (from tensorboard<2.16,>=2.15->tensorflow) (1.2.0)\n",
            "Requirement already satisfied: markdown>=2.6.8 in /usr/local/lib/python3.10/dist-packages (from tensorboard<2.16,>=2.15->tensorflow) (3.6)\n",
            "Requirement already satisfied: requests<3,>=2.21.0 in /usr/local/lib/python3.10/dist-packages (from tensorboard<2.16,>=2.15->tensorflow) (2.31.0)\n",
            "Requirement already satisfied: tensorboard-data-server<0.8.0,>=0.7.0 in /usr/local/lib/python3.10/dist-packages (from tensorboard<2.16,>=2.15->tensorflow) (0.7.2)\n",
            "Requirement already satisfied: werkzeug>=1.0.1 in /usr/local/lib/python3.10/dist-packages (from tensorboard<2.16,>=2.15->tensorflow) (3.0.3)\n",
            "Requirement already satisfied: cachetools<6.0,>=2.0.0 in /usr/local/lib/python3.10/dist-packages (from google-auth<3,>=1.6.3->tensorboard<2.16,>=2.15->tensorflow) (5.3.3)\n",
            "Requirement already satisfied: pyasn1-modules>=0.2.1 in /usr/local/lib/python3.10/dist-packages (from google-auth<3,>=1.6.3->tensorboard<2.16,>=2.15->tensorflow) (0.4.0)\n",
            "Requirement already satisfied: rsa<5,>=3.1.4 in /usr/local/lib/python3.10/dist-packages (from google-auth<3,>=1.6.3->tensorboard<2.16,>=2.15->tensorflow) (4.9)\n",
            "Requirement already satisfied: requests-oauthlib>=0.7.0 in /usr/local/lib/python3.10/dist-packages (from google-auth-oauthlib<2,>=0.5->tensorboard<2.16,>=2.15->tensorflow) (1.3.1)\n",
            "Requirement already satisfied: charset-normalizer<4,>=2 in /usr/local/lib/python3.10/dist-packages (from requests<3,>=2.21.0->tensorboard<2.16,>=2.15->tensorflow) (3.3.2)\n",
            "Requirement already satisfied: idna<4,>=2.5 in /usr/local/lib/python3.10/dist-packages (from requests<3,>=2.21.0->tensorboard<2.16,>=2.15->tensorflow) (3.7)\n",
            "Requirement already satisfied: urllib3<3,>=1.21.1 in /usr/local/lib/python3.10/dist-packages (from requests<3,>=2.21.0->tensorboard<2.16,>=2.15->tensorflow) (2.0.7)\n",
            "Requirement already satisfied: certifi>=2017.4.17 in /usr/local/lib/python3.10/dist-packages (from requests<3,>=2.21.0->tensorboard<2.16,>=2.15->tensorflow) (2024.6.2)\n",
            "Requirement already satisfied: MarkupSafe>=2.1.1 in /usr/local/lib/python3.10/dist-packages (from werkzeug>=1.0.1->tensorboard<2.16,>=2.15->tensorflow) (2.1.5)\n",
            "Requirement already satisfied: pyasn1<0.7.0,>=0.4.6 in /usr/local/lib/python3.10/dist-packages (from pyasn1-modules>=0.2.1->google-auth<3,>=1.6.3->tensorboard<2.16,>=2.15->tensorflow) (0.6.0)\n",
            "Requirement already satisfied: oauthlib>=3.0.0 in /usr/local/lib/python3.10/dist-packages (from requests-oauthlib>=0.7.0->google-auth-oauthlib<2,>=0.5->tensorboard<2.16,>=2.15->tensorflow) (3.2.2)\n"
          ]
        }
      ],
      "source": [
        "!pip install tensorflow"
      ]
    },
    {
      "cell_type": "code",
      "source": [
        "import os\n",
        "import random\n",
        "import shutil\n",
        "import tensorflow as tf\n",
        "from tensorflow.keras.preprocessing.image import ImageDataGenerator\n",
        "from tensorflow.keras.models import Sequential\n",
        "from tensorflow.keras.layers import Dropout, Conv2D, MaxPooling2D, Flatten, Dense\n",
        "from tensorflow.keras.callbacks import EarlyStopping, ModelCheckpoint\n",
        "from tensorflow.keras.applications import VGG16\n",
        "from shutil import copyfile\n",
        "import matplotlib.pyplot as plt\n",
        "import pandas as pd\n"
      ],
      "metadata": {
        "id": "dVA7k9SagEfo"
      },
      "execution_count": null,
      "outputs": []
    },
    {
      "cell_type": "code",
      "source": [
        "from google.colab import drive\n",
        "drive.mount('/content/gdrive', force_remount=True)\n",
        "drive_path = '/content/drive/Shareddrives'"
      ],
      "metadata": {
        "colab": {
          "base_uri": "https://localhost:8080/"
        },
        "id": "RXsTVjYggKzE",
        "outputId": "1295bfd3-4d9b-472d-86d9-852c1998c8ae"
      },
      "execution_count": null,
      "outputs": [
        {
          "output_type": "stream",
          "name": "stdout",
          "text": [
            "Mounted at /content/gdrive\n"
          ]
        }
      ]
    },
    {
      "cell_type": "code",
      "source": [
        "# grader-required-cell\n",
        "\n",
        "source_path = '/content/gdrive/Shareddrives/Animals_Pictures/Animals_picture/' #KALAU GANTI LOKASI, HARUS GANTI#\n",
        "\n",
        "categories = os.listdir(source_path)\n",
        "print(f\"Categories found : {categories}\")"
      ],
      "metadata": {
        "colab": {
          "base_uri": "https://localhost:8080/"
        },
        "id": "GzpAqhv7gViX",
        "outputId": "2526645b-207d-4c77-c038-6bfb7de3cb88"
      },
      "execution_count": null,
      "outputs": [
        {
          "output_type": "stream",
          "name": "stdout",
          "text": [
            "Categories found : ['chimpanzee', 'Jaguar', 'Lion']\n"
          ]
        }
      ]
    },
    {
      "cell_type": "code",
      "source": [
        "root_dir = '/animals_dataset'\n",
        "\n",
        "# Empty directory to prevent FileExistsError if the function is run several times\n",
        "if os.path.exists(root_dir):\n",
        "    shutil.rmtree(root_dir)\n",
        "\n",
        "def create_train_val_dirs(root_path):\n",
        "    os.makedirs(root_path)\n",
        "    train_dir = os.path.join(root_path, 'training')\n",
        "    val_dir = os.path.join(root_path, 'validation')\n",
        "    test_dir = os.path.join(root_path, 'testing')\n",
        "\n",
        "    for category in os.listdir(source_path):\n",
        "        train_category_dir = os.path.join(train_dir, category)\n",
        "        val_category_dir = os.path.join(val_dir, category)\n",
        "        test_category_dir = os.path.join(test_dir, category)\n",
        "        os.makedirs(train_category_dir)\n",
        "        os.makedirs(val_category_dir)\n",
        "        os.makedirs(test_category_dir)\n",
        "\n",
        "try:\n",
        "    create_train_val_dirs(root_path=root_dir)\n",
        "except FileExistsError:\n",
        "    print(\"You should not be seeing this since the upper directory is removed beforehand\")"
      ],
      "metadata": {
        "id": "dYRATJuLgZaU"
      },
      "execution_count": null,
      "outputs": []
    },
    {
      "cell_type": "code",
      "source": [
        "# Verify the creation of directories\n",
        "for rootdir, dirs, files in os.walk(root_dir):\n",
        "    for subdir in dirs:\n",
        "        print(os.path.join(rootdir, subdir))"
      ],
      "metadata": {
        "colab": {
          "base_uri": "https://localhost:8080/"
        },
        "id": "TJfQQKpMvTSN",
        "outputId": "2d952296-5a39-4723-9e6f-a97b8080452c"
      },
      "execution_count": null,
      "outputs": [
        {
          "output_type": "stream",
          "name": "stdout",
          "text": [
            "/animals_dataset/testing\n",
            "/animals_dataset/validation\n",
            "/animals_dataset/training\n",
            "/animals_dataset/testing/Jaguar\n",
            "/animals_dataset/testing/Lion\n",
            "/animals_dataset/testing/chimpanzee\n",
            "/animals_dataset/validation/Jaguar\n",
            "/animals_dataset/validation/Lion\n",
            "/animals_dataset/validation/chimpanzee\n",
            "/animals_dataset/training/Jaguar\n",
            "/animals_dataset/training/Lion\n",
            "/animals_dataset/training/chimpanzee\n"
          ]
        }
      ]
    },
    {
      "cell_type": "code",
      "source": [
        "def split_data(SOURCE_DIR, TRAINING_DIR, VALIDATION_DIR, TESTING_DIR, SPLIT_SIZE, SPLIT_SIZE_TEST):\n",
        "    file_list = [f for f in os.listdir(SOURCE_DIR) if os.path.getsize(os.path.join(SOURCE_DIR, f)) > 0]\n",
        "\n",
        "    train_num_items = int(round(len(file_list) * SPLIT_SIZE, 0))\n",
        "    train_list = random.sample(file_list, train_num_items)\n",
        "    remain_list = list(set(file_list) - set(train_list))\n",
        "    test_num_items = int(round(len(remain_list) * SPLIT_SIZE_TEST / (1 - SPLIT_SIZE), 0))\n",
        "    test_list = random.sample(remain_list, test_num_items)\n",
        "    val_list = list(set(remain_list) - set(test_list))\n",
        "\n",
        "    for f in train_list:\n",
        "        copyfile(os.path.join(SOURCE_DIR, f), os.path.join(TRAINING_DIR, f))\n",
        "    for f in test_list:\n",
        "        copyfile(os.path.join(SOURCE_DIR, f), os.path.join(TESTING_DIR, f))\n",
        "    for f in val_list:\n",
        "        copyfile(os.path.join(SOURCE_DIR, f), os.path.join(VALIDATION_DIR, f))\n",
        "\n",
        "# Directories for training, validation, and testing\n",
        "TRAINING_DIR = os.path.join(root_dir, \"training/\")\n",
        "VALIDATION_DIR = os.path.join(root_dir, \"validation/\")\n",
        "TESTING_DIR = os.path.join(root_dir, \"testing/\")\n",
        "\n",
        "split_size = 0.6\n",
        "split_size_test = 0.2\n",
        "\n",
        "# Split the data for each category\n",
        "for category in os.listdir(source_path):\n",
        "    SOURCE_DIR_CATEGORY = os.path.join(source_path, category)\n",
        "    TRAINING_CATEGORY_DIR = os.path.join(TRAINING_DIR, category)\n",
        "    VALIDATION_CATEGORY_DIR = os.path.join(VALIDATION_DIR, category)\n",
        "    TESTING_CATEGORY_DIR = os.path.join(TESTING_DIR, category)\n",
        "\n",
        "    # Clean up existing files if present\n",
        "    for dir_path in [TRAINING_CATEGORY_DIR, VALIDATION_CATEGORY_DIR, TESTING_CATEGORY_DIR]:\n",
        "        for file in os.scandir(dir_path):\n",
        "            os.remove(file.path)\n",
        "\n",
        "    split_data(SOURCE_DIR_CATEGORY, TRAINING_CATEGORY_DIR, VALIDATION_CATEGORY_DIR, TESTING_CATEGORY_DIR, split_size, split_size_test)\n",
        "\n",
        "    print(f\"\\n\\nOriginal '{category}' directory has {len(os.listdir(SOURCE_DIR_CATEGORY))} images\")\n",
        "    print(f\"There are {len(os.listdir(TRAINING_CATEGORY_DIR))} images of {category} for training\")\n",
        "    print(f\"There are {len(os.listdir(VALIDATION_CATEGORY_DIR))} images of {category} for validation\")\n",
        "    print(f\"There are {len(os.listdir(TESTING_CATEGORY_DIR))} images of {category} for testing\")"
      ],
      "metadata": {
        "colab": {
          "base_uri": "https://localhost:8080/"
        },
        "id": "ldzBIi-lhvQ8",
        "outputId": "4a8a14c3-d5a5-4bc9-ba67-54b4750d2a5a"
      },
      "execution_count": null,
      "outputs": [
        {
          "output_type": "stream",
          "name": "stdout",
          "text": [
            "\n",
            "\n",
            "Original 'chimpanzee' directory has 50 images\n",
            "There are 30 images of chimpanzee for training\n",
            "There are 10 images of chimpanzee for validation\n",
            "There are 10 images of chimpanzee for testing\n",
            "\n",
            "\n",
            "Original 'Jaguar' directory has 30 images\n",
            "There are 18 images of Jaguar for training\n",
            "There are 6 images of Jaguar for validation\n",
            "There are 6 images of Jaguar for testing\n",
            "\n",
            "\n",
            "Original 'Lion' directory has 32 images\n",
            "There are 19 images of Lion for training\n",
            "There are 7 images of Lion for validation\n",
            "There are 6 images of Lion for testing\n"
          ]
        }
      ]
    },
    {
      "cell_type": "code",
      "source": [
        "def train_val_generators(TRAINING_DIR, VALIDATION_DIR):\n",
        "    train_datagen = ImageDataGenerator(\n",
        "        rescale=1./255,\n",
        "        rotation_range=40,\n",
        "        width_shift_range=0.2,\n",
        "        height_shift_range=0.2,\n",
        "        shear_range=0.2,\n",
        "        zoom_range=0.2,\n",
        "        horizontal_flip=True,\n",
        "        fill_mode='nearest'\n",
        "    )\n",
        "\n",
        "    train_generator = train_datagen.flow_from_directory(directory=TRAINING_DIR,\n",
        "                                                        batch_size=32,\n",
        "                                                        class_mode='categorical',\n",
        "                                                        target_size=(224, 224))\n",
        "\n",
        "    validation_datagen = ImageDataGenerator(rescale=1.0/255)\n",
        "\n",
        "    validation_generator = validation_datagen.flow_from_directory(directory=VALIDATION_DIR,\n",
        "                                                                  batch_size=32,\n",
        "                                                                  class_mode='categorical',\n",
        "                                                                  target_size=(224, 224))\n",
        "    return train_generator, validation_generator\n",
        "\n",
        "train_generator, validation_generator = train_val_generators(TRAINING_DIR, VALIDATION_DIR)\n"
      ],
      "metadata": {
        "id": "qFhZz79wiL6l",
        "colab": {
          "base_uri": "https://localhost:8080/"
        },
        "outputId": "0d9ff827-600b-43a0-a825-47a47863487b"
      },
      "execution_count": null,
      "outputs": [
        {
          "output_type": "stream",
          "name": "stdout",
          "text": [
            "Found 67 images belonging to 3 classes.\n",
            "Found 23 images belonging to 3 classes.\n"
          ]
        }
      ]
    },
    {
      "cell_type": "code",
      "source": [
        "for images, labels in train_generator:\n",
        "    print(images.shape)  # Output: (batch_size, 224, 224, 3)\n",
        "    break\n"
      ],
      "metadata": {
        "colab": {
          "base_uri": "https://localhost:8080/"
        },
        "id": "LoDlpD_47O1u",
        "outputId": "03e01e50-03bb-4d3f-fca7-92c6691b1fa3"
      },
      "execution_count": null,
      "outputs": [
        {
          "output_type": "stream",
          "name": "stdout",
          "text": [
            "(32, 224, 224, 3)\n"
          ]
        }
      ]
    },
    {
      "cell_type": "code",
      "source": [
        "def create_model():\n",
        "    base_model = VGG16(input_shape=(224, 224, 3), include_top=False, weights='imagenet')\n",
        "    for layer in base_model.layers:\n",
        "        layer.trainable = False\n",
        "\n",
        "    model = Sequential([\n",
        "        base_model,\n",
        "        Flatten(),\n",
        "        Dense(512, activation='relu'),\n",
        "        Dropout(0.5),\n",
        "        Dense(len(categories), activation='softmax')  # Dynamically set the number of output classes\n",
        "    ])\n",
        "\n",
        "    model.compile(optimizer='adam', loss='categorical_crossentropy', metrics=['accuracy'])\n",
        "\n",
        "    return model"
      ],
      "metadata": {
        "id": "olRFkGaVis0i"
      },
      "execution_count": null,
      "outputs": []
    },
    {
      "cell_type": "code",
      "source": [
        "model = create_model()\n",
        "model.summary()"
      ],
      "metadata": {
        "colab": {
          "base_uri": "https://localhost:8080/"
        },
        "id": "WQYb-kZ0ix0q",
        "outputId": "5caea81f-7a4d-4bb4-aa9b-add28a6056be"
      },
      "execution_count": null,
      "outputs": [
        {
          "output_type": "stream",
          "name": "stdout",
          "text": [
            "Downloading data from https://storage.googleapis.com/tensorflow/keras-applications/vgg16/vgg16_weights_tf_dim_ordering_tf_kernels_notop.h5\n",
            "58889256/58889256 [==============================] - 4s 0us/step\n",
            "Model: \"sequential_6\"\n",
            "_________________________________________________________________\n",
            " Layer (type)                Output Shape              Param #   \n",
            "=================================================================\n",
            " vgg16 (Functional)          (None, 7, 7, 512)         14714688  \n",
            "                                                                 \n",
            " flatten_6 (Flatten)         (None, 25088)             0         \n",
            "                                                                 \n",
            " dense_16 (Dense)            (None, 512)               12845568  \n",
            "                                                                 \n",
            " dropout_16 (Dropout)        (None, 512)               0         \n",
            "                                                                 \n",
            " dense_17 (Dense)            (None, 3)                 1539      \n",
            "                                                                 \n",
            "=================================================================\n",
            "Total params: 27561795 (105.14 MB)\n",
            "Trainable params: 12847107 (49.01 MB)\n",
            "Non-trainable params: 14714688 (56.13 MB)\n",
            "_________________________________________________________________\n"
          ]
        }
      ]
    },
    {
      "cell_type": "code",
      "source": [
        "print(next(iter(train_generator))[0].shape)\n",
        "print(next(iter(validation_generator))[0].shape)\n"
      ],
      "metadata": {
        "colab": {
          "base_uri": "https://localhost:8080/"
        },
        "id": "70jnWUKM8dis",
        "outputId": "259fa29e-fa3f-4d26-982a-4c8cf2088c20"
      },
      "execution_count": null,
      "outputs": [
        {
          "output_type": "stream",
          "name": "stdout",
          "text": [
            "(3, 224, 224, 3)\n",
            "(23, 224, 224, 3)\n"
          ]
        }
      ]
    },
    {
      "cell_type": "code",
      "source": [
        "import math\n",
        "\n",
        "def step_decay(epoch):\n",
        "    initial_lrate = 0.0001\n",
        "    drop = 0.5\n",
        "    epochs_drop = 10.0\n",
        "    lrate = initial_lrate * math.pow(drop, math.floor((1 + epoch) / epochs_drop))\n",
        "    return lrate\n",
        "\n",
        "lrate = tf.keras.callbacks.LearningRateScheduler(step_decay, verbose=1)\n",
        "callbacks_list = [lrate]\n",
        "\n",
        "lr_callback = tf.keras.callbacks.ReduceLROnPlateau(\n",
        "    monitor='val_loss',\n",
        "    factor=0.1,\n",
        "    patience=10,\n",
        "    min_lr=0.00000001,\n",
        "    verbose=1\n",
        ")\n",
        "\n",
        "early_stopping = EarlyStopping(monitor='val_loss', patience=20, restore_best_weights=True)"
      ],
      "metadata": {
        "id": "2vOLtQsRi0tY"
      },
      "execution_count": null,
      "outputs": []
    },
    {
      "cell_type": "code",
      "source": [
        "history = model.fit(\n",
        "    train_generator,\n",
        "    epochs=100,\n",
        "    steps_per_epoch=len(train_generator),\n",
        "    validation_data=validation_generator,\n",
        "    validation_steps=len(validation_generator),\n",
        "    callbacks=[lr_callback, lrate, early_stopping]\n",
        ")"
      ],
      "metadata": {
        "colab": {
          "base_uri": "https://localhost:8080/"
        },
        "id": "8om5d2PSm9fY",
        "outputId": "6ddca8f0-cb25-4ea8-e280-9bf96a91a109"
      },
      "execution_count": null,
      "outputs": [
        {
          "output_type": "stream",
          "name": "stdout",
          "text": [
            "\n",
            "Epoch 1: LearningRateScheduler setting learning rate to 0.0001.\n",
            "Epoch 1/100\n",
            "3/3 [==============================] - 76s 4s/step - loss: 1.7009 - accuracy: 0.4030 - val_loss: 0.8107 - val_accuracy: 0.6957 - lr: 1.0000e-04\n",
            "\n",
            "Epoch 2: LearningRateScheduler setting learning rate to 0.0001.\n",
            "Epoch 2/100\n",
            "3/3 [==============================] - 1s 394ms/step - loss: 1.0787 - accuracy: 0.4925 - val_loss: 0.8415 - val_accuracy: 0.3913 - lr: 1.0000e-04\n",
            "\n",
            "Epoch 3: LearningRateScheduler setting learning rate to 0.0001.\n",
            "Epoch 3/100\n",
            "3/3 [==============================] - 2s 718ms/step - loss: 0.7815 - accuracy: 0.6119 - val_loss: 0.7220 - val_accuracy: 0.6522 - lr: 1.0000e-04\n",
            "\n",
            "Epoch 4: LearningRateScheduler setting learning rate to 0.0001.\n",
            "Epoch 4/100\n",
            "3/3 [==============================] - 1s 427ms/step - loss: 0.7379 - accuracy: 0.7164 - val_loss: 0.7507 - val_accuracy: 0.6522 - lr: 1.0000e-04\n",
            "\n",
            "Epoch 5: LearningRateScheduler setting learning rate to 0.0001.\n",
            "Epoch 5/100\n",
            "3/3 [==============================] - 2s 647ms/step - loss: 0.7363 - accuracy: 0.7313 - val_loss: 0.5439 - val_accuracy: 0.7391 - lr: 1.0000e-04\n",
            "\n",
            "Epoch 6: LearningRateScheduler setting learning rate to 0.0001.\n",
            "Epoch 6/100\n",
            "3/3 [==============================] - 1s 404ms/step - loss: 0.4342 - accuracy: 0.8358 - val_loss: 0.5319 - val_accuracy: 0.7391 - lr: 1.0000e-04\n",
            "\n",
            "Epoch 7: LearningRateScheduler setting learning rate to 0.0001.\n",
            "Epoch 7/100\n",
            "3/3 [==============================] - 1s 685ms/step - loss: 0.5601 - accuracy: 0.7910 - val_loss: 0.4808 - val_accuracy: 0.8261 - lr: 1.0000e-04\n",
            "\n",
            "Epoch 8: LearningRateScheduler setting learning rate to 0.0001.\n",
            "Epoch 8/100\n",
            "3/3 [==============================] - 1s 700ms/step - loss: 0.5060 - accuracy: 0.7761 - val_loss: 0.4301 - val_accuracy: 0.9130 - lr: 1.0000e-04\n",
            "\n",
            "Epoch 9: LearningRateScheduler setting learning rate to 0.0001.\n",
            "Epoch 9/100\n",
            "3/3 [==============================] - 1s 377ms/step - loss: 0.4229 - accuracy: 0.8060 - val_loss: 0.5378 - val_accuracy: 0.6957 - lr: 1.0000e-04\n",
            "\n",
            "Epoch 10: LearningRateScheduler setting learning rate to 5e-05.\n",
            "Epoch 10/100\n",
            "3/3 [==============================] - 2s 415ms/step - loss: 0.3357 - accuracy: 0.8806 - val_loss: 0.4898 - val_accuracy: 0.6957 - lr: 5.0000e-05\n",
            "\n",
            "Epoch 11: LearningRateScheduler setting learning rate to 5e-05.\n",
            "Epoch 11/100\n",
            "3/3 [==============================] - 2s 1s/step - loss: 0.4442 - accuracy: 0.7612 - val_loss: 0.4254 - val_accuracy: 0.7391 - lr: 5.0000e-05\n",
            "\n",
            "Epoch 12: LearningRateScheduler setting learning rate to 5e-05.\n",
            "Epoch 12/100\n",
            "3/3 [==============================] - 2s 457ms/step - loss: 0.3698 - accuracy: 0.8358 - val_loss: 0.4057 - val_accuracy: 0.9130 - lr: 5.0000e-05\n",
            "\n",
            "Epoch 13: LearningRateScheduler setting learning rate to 5e-05.\n",
            "Epoch 13/100\n",
            "3/3 [==============================] - 1s 414ms/step - loss: 0.2268 - accuracy: 0.8806 - val_loss: 0.4509 - val_accuracy: 0.8696 - lr: 5.0000e-05\n",
            "\n",
            "Epoch 14: LearningRateScheduler setting learning rate to 5e-05.\n",
            "Epoch 14/100\n",
            "3/3 [==============================] - 1s 653ms/step - loss: 0.2412 - accuracy: 0.9254 - val_loss: 0.4630 - val_accuracy: 0.8261 - lr: 5.0000e-05\n",
            "\n",
            "Epoch 15: LearningRateScheduler setting learning rate to 5e-05.\n",
            "Epoch 15/100\n",
            "3/3 [==============================] - 1s 393ms/step - loss: 0.4518 - accuracy: 0.8060 - val_loss: 0.4081 - val_accuracy: 0.8696 - lr: 5.0000e-05\n",
            "\n",
            "Epoch 16: LearningRateScheduler setting learning rate to 5e-05.\n",
            "Epoch 16/100\n",
            "3/3 [==============================] - 1s 393ms/step - loss: 0.2744 - accuracy: 0.9254 - val_loss: 0.4328 - val_accuracy: 0.7826 - lr: 5.0000e-05\n",
            "\n",
            "Epoch 17: LearningRateScheduler setting learning rate to 5e-05.\n",
            "Epoch 17/100\n",
            "3/3 [==============================] - 2s 546ms/step - loss: 0.3507 - accuracy: 0.8507 - val_loss: 0.4260 - val_accuracy: 0.7391 - lr: 5.0000e-05\n",
            "\n",
            "Epoch 18: LearningRateScheduler setting learning rate to 5e-05.\n",
            "Epoch 18/100\n",
            "3/3 [==============================] - 2s 946ms/step - loss: 0.3254 - accuracy: 0.8806 - val_loss: 0.3733 - val_accuracy: 0.8696 - lr: 5.0000e-05\n",
            "\n",
            "Epoch 19: LearningRateScheduler setting learning rate to 5e-05.\n",
            "Epoch 19/100\n",
            "3/3 [==============================] - 1s 405ms/step - loss: 0.2810 - accuracy: 0.8806 - val_loss: 0.3953 - val_accuracy: 0.9130 - lr: 5.0000e-05\n",
            "\n",
            "Epoch 20: LearningRateScheduler setting learning rate to 2.5e-05.\n",
            "Epoch 20/100\n",
            "3/3 [==============================] - 1s 360ms/step - loss: 0.2619 - accuracy: 0.8806 - val_loss: 0.4140 - val_accuracy: 0.9130 - lr: 2.5000e-05\n",
            "\n",
            "Epoch 21: LearningRateScheduler setting learning rate to 2.5e-05.\n",
            "Epoch 21/100\n",
            "3/3 [==============================] - 1s 392ms/step - loss: 0.2229 - accuracy: 0.9403 - val_loss: 0.4060 - val_accuracy: 0.9130 - lr: 2.5000e-05\n",
            "\n",
            "Epoch 22: LearningRateScheduler setting learning rate to 2.5e-05.\n",
            "Epoch 22/100\n",
            "3/3 [==============================] - 1s 392ms/step - loss: 0.2357 - accuracy: 0.8955 - val_loss: 0.3834 - val_accuracy: 0.9130 - lr: 2.5000e-05\n",
            "\n",
            "Epoch 23: LearningRateScheduler setting learning rate to 2.5e-05.\n",
            "Epoch 23/100\n",
            "3/3 [==============================] - 1s 377ms/step - loss: 0.2299 - accuracy: 0.8955 - val_loss: 0.3745 - val_accuracy: 0.9130 - lr: 2.5000e-05\n",
            "\n",
            "Epoch 24: LearningRateScheduler setting learning rate to 2.5e-05.\n",
            "Epoch 24/100\n",
            "3/3 [==============================] - 2s 611ms/step - loss: 0.1629 - accuracy: 0.9701 - val_loss: 0.3760 - val_accuracy: 0.9130 - lr: 2.5000e-05\n",
            "\n",
            "Epoch 25: LearningRateScheduler setting learning rate to 2.5e-05.\n",
            "Epoch 25/100\n",
            "3/3 [==============================] - 1s 378ms/step - loss: 0.2064 - accuracy: 0.9552 - val_loss: 0.3837 - val_accuracy: 0.9130 - lr: 2.5000e-05\n",
            "\n",
            "Epoch 26: LearningRateScheduler setting learning rate to 2.5e-05.\n",
            "Epoch 26/100\n",
            "3/3 [==============================] - 1s 635ms/step - loss: 0.2077 - accuracy: 0.9104 - val_loss: 0.3999 - val_accuracy: 0.9130 - lr: 2.5000e-05\n",
            "\n",
            "Epoch 27: LearningRateScheduler setting learning rate to 2.5e-05.\n",
            "Epoch 27/100\n",
            "3/3 [==============================] - 1s 647ms/step - loss: 0.1940 - accuracy: 0.9403 - val_loss: 0.4029 - val_accuracy: 0.9130 - lr: 2.5000e-05\n",
            "\n",
            "Epoch 28: LearningRateScheduler setting learning rate to 2.5e-05.\n",
            "Epoch 28/100\n",
            "2/3 [===================>..........] - ETA: 0s - loss: 0.2486 - accuracy: 0.8906\n",
            "Epoch 28: ReduceLROnPlateau reducing learning rate to 2.499999936844688e-06.\n",
            "3/3 [==============================] - 1s 412ms/step - loss: 0.2402 - accuracy: 0.8955 - val_loss: 0.3877 - val_accuracy: 0.9130 - lr: 2.5000e-06\n",
            "\n",
            "Epoch 29: LearningRateScheduler setting learning rate to 2.5e-05.\n",
            "Epoch 29/100\n",
            "3/3 [==============================] - 1s 411ms/step - loss: 0.2220 - accuracy: 0.9254 - val_loss: 0.3810 - val_accuracy: 0.9130 - lr: 2.5000e-05\n",
            "\n",
            "Epoch 30: LearningRateScheduler setting learning rate to 1.25e-05.\n",
            "Epoch 30/100\n",
            "3/3 [==============================] - 2s 878ms/step - loss: 0.1705 - accuracy: 0.9701 - val_loss: 0.3789 - val_accuracy: 0.9130 - lr: 1.2500e-05\n",
            "\n",
            "Epoch 31: LearningRateScheduler setting learning rate to 1.25e-05.\n",
            "Epoch 31/100\n",
            "3/3 [==============================] - 2s 937ms/step - loss: 0.1424 - accuracy: 0.9701 - val_loss: 0.3787 - val_accuracy: 0.9130 - lr: 1.2500e-05\n",
            "\n",
            "Epoch 32: LearningRateScheduler setting learning rate to 1.25e-05.\n",
            "Epoch 32/100\n",
            "3/3 [==============================] - 1s 351ms/step - loss: 0.1652 - accuracy: 0.9701 - val_loss: 0.3783 - val_accuracy: 0.9130 - lr: 1.2500e-05\n",
            "\n",
            "Epoch 33: LearningRateScheduler setting learning rate to 1.25e-05.\n",
            "Epoch 33/100\n",
            "3/3 [==============================] - 1s 634ms/step - loss: 0.1518 - accuracy: 0.9552 - val_loss: 0.3787 - val_accuracy: 0.9130 - lr: 1.2500e-05\n",
            "\n",
            "Epoch 34: LearningRateScheduler setting learning rate to 1.25e-05.\n",
            "Epoch 34/100\n",
            "3/3 [==============================] - 1s 434ms/step - loss: 0.1491 - accuracy: 0.9701 - val_loss: 0.3796 - val_accuracy: 0.9130 - lr: 1.2500e-05\n",
            "\n",
            "Epoch 35: LearningRateScheduler setting learning rate to 1.25e-05.\n",
            "Epoch 35/100\n",
            "3/3 [==============================] - 1s 391ms/step - loss: 0.1860 - accuracy: 0.9403 - val_loss: 0.3802 - val_accuracy: 0.9130 - lr: 1.2500e-05\n",
            "\n",
            "Epoch 36: LearningRateScheduler setting learning rate to 1.25e-05.\n",
            "Epoch 36/100\n",
            "3/3 [==============================] - 1s 431ms/step - loss: 0.1358 - accuracy: 0.9701 - val_loss: 0.3803 - val_accuracy: 0.9130 - lr: 1.2500e-05\n",
            "\n",
            "Epoch 37: LearningRateScheduler setting learning rate to 1.25e-05.\n",
            "Epoch 37/100\n",
            "3/3 [==============================] - 2s 602ms/step - loss: 0.1731 - accuracy: 0.9254 - val_loss: 0.3808 - val_accuracy: 0.9130 - lr: 1.2500e-05\n",
            "\n",
            "Epoch 38: LearningRateScheduler setting learning rate to 1.25e-05.\n",
            "Epoch 38/100\n",
            "2/3 [===================>..........] - ETA: 0s - loss: 0.1734 - accuracy: 0.9375\n",
            "Epoch 38: ReduceLROnPlateau reducing learning rate to 1.249999968422344e-06.\n",
            "3/3 [==============================] - 2s 558ms/step - loss: 0.1664 - accuracy: 0.9403 - val_loss: 0.3804 - val_accuracy: 0.9130 - lr: 1.2500e-06\n"
          ]
        }
      ]
    },
    {
      "cell_type": "code",
      "source": [
        "testing_datagen = ImageDataGenerator(rescale=1.0/255.)\n",
        "testing_generator = testing_datagen.flow_from_directory(directory=TESTING_DIR,\n",
        "                                                        batch_size=32,\n",
        "                                                        class_mode='categorical',\n",
        "                                                        target_size=(224, 224))\n",
        "\n",
        "# Evaluate the model on test data\n",
        "results = model.evaluate(testing_generator, batch_size=32)\n",
        "print(\"Test loss, Test accuracy:\", results)"
      ],
      "metadata": {
        "colab": {
          "base_uri": "https://localhost:8080/"
        },
        "id": "U_T21BN0qw96",
        "outputId": "aa9db926-91e6-4af8-a265-35948f1a44e2"
      },
      "execution_count": null,
      "outputs": [
        {
          "output_type": "stream",
          "name": "stdout",
          "text": [
            "Found 22 images belonging to 3 classes.\n",
            "1/1 [==============================] - 0s 284ms/step - loss: 0.4935 - accuracy: 0.7273\n",
            "Test loss, Test accuracy: [0.4934558570384979, 0.7272727489471436]\n"
          ]
        }
      ]
    },
    {
      "cell_type": "code",
      "source": [
        "# Plot the chart for accuracy and loss on both training and validation\n",
        "acc = history.history['accuracy']\n",
        "val_acc = history.history['val_accuracy']\n",
        "loss = history.history['loss']\n",
        "val_loss = history.history['val_loss']\n",
        "\n",
        "epochs = range(len(acc))\n",
        "\n",
        "plt.plot(epochs, acc, 'r', label='Training accuracy')\n",
        "plt.plot(epochs, val_acc, 'b', label='Validation accuracy')\n",
        "plt.title('Training and validation accuracy')\n",
        "plt.legend()\n",
        "plt.figure()\n",
        "\n",
        "plt.plot(epochs, loss, 'r', label='Training Loss')\n",
        "plt.plot(epochs, val_loss, 'b', label='Validation Loss')\n",
        "plt.title('Training and validation loss')\n",
        "plt.legend()\n",
        "\n",
        "plt.show()"
      ],
      "metadata": {
        "colab": {
          "base_uri": "https://localhost:8080/",
          "height": 887
        },
        "id": "RlF0Jzd8m_q2",
        "outputId": "60d8e253-ff7b-4b72-8400-e6f61c83a53b"
      },
      "execution_count": null,
      "outputs": [
        {
          "output_type": "display_data",
          "data": {
            "text/plain": [
              "<Figure size 640x480 with 1 Axes>"
            ],
            "image/png": "[encoded data removed]"
          },
          "metadata": {}
        },
        {
          "output_type": "display_data",
          "data": {
            "text/plain": [
              "<Figure size 640x480 with 1 Axes>"
            ],
            "image/png": "[encoded data removed]"
          },
          "metadata": {}
        }
      ]
    },
    {
      "cell_type": "code",
      "source": [
        "# Save the model\n",
        "model_save_path = '/content/gdrive/MyDrive/animal_model.h5'\n",
        "model.save(model_save_path)\n",
        "\n",
        "# Load the model\n",
        "loaded_model = tf.keras.models.load_model(model_save_path)"
      ],
      "metadata": {
        "id": "nQZ13JwsoxRf"
      },
      "execution_count": null,
      "outputs": []
    }
  ]
}